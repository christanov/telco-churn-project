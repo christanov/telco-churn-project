{
 "cells": [
  {
   "cell_type": "markdown",
   "id": "ef7b8f0f",
   "metadata": {},
   "source": [
    "# 📊 Análisis de Churn desde dos fuentes de datos\n",
    "Este notebook ejecuta el análisis predictivo de churn desde:\n",
    "1. Un archivo CSV\n",
    "2. Una base de datos SQLite"
   ]
  },
  {
   "cell_type": "markdown",
   "id": "0fdd7f69",
   "metadata": {},
   "source": [
    "## 🔹 Parte 1: Lectura desde CSV"
   ]
  },
  {
   "cell_type": "code",
   "execution_count": null,
   "id": "5f5be594",
   "metadata": {},
   "outputs": [],
   "source": [
    "import pandas as pd\n",
    "import numpy as np\n",
    "import matplotlib.pyplot as plt\n",
    "import seaborn as sns\n",
    "from sklearn.model_selection import train_test_split\n",
    "from sklearn.preprocessing import StandardScaler, LabelEncoder\n",
    "from sklearn.ensemble import RandomForestClassifier\n",
    "from sklearn.metrics import classification_report, confusion_matrix\n",
    "\n",
    "# Leer CSV desde GitHub\n",
    "df_csv = pd.read_csv(\"https://raw.githubusercontent.com/christanov/telco-churn-project/main/data/telco_dataset_final.csv\")\n",
    "df_csv.head()"
   ]
  },
  {
   "cell_type": "code",
   "execution_count": null,
   "id": "e38e05b1",
   "metadata": {},
   "outputs": [],
   "source": [
    "# Preparar y entrenar modelo desde CSV\n",
    "features = ['tenure', 'MonthlyCharges', 'TotalCharges', 'Contract', 'InternetService',\n",
    "            'OnlineSecurity', 'TechSupport', 'OnlineBackup', 'DeviceProtection']\n",
    "X = df_csv[features].copy()\n",
    "y = df_csv['Churn']\n",
    "\n",
    "# Codificación\n",
    "for col in X.select_dtypes(include='object').columns:\n",
    "    le = LabelEncoder()\n",
    "    X[col] = le.fit_transform(X[col])\n",
    "\n",
    "# Entrenamiento\n",
    "X_train, X_test, y_train, y_test = train_test_split(X, y, test_size=0.2, random_state=42)\n",
    "scaler = StandardScaler()\n",
    "X_train[X.columns] = scaler.fit_transform(X_train[X.columns])\n",
    "X_test[X.columns] = scaler.transform(X_test[X.columns])\n",
    "\n",
    "model_csv = RandomForestClassifier(n_estimators=100, random_state=42)\n",
    "model_csv.fit(X_train, y_train)\n",
    "y_pred = model_csv.predict(X_test)\n",
    "\n",
    "print(\"📘 Reporte desde CSV:\")\n",
    "print(classification_report(y_test, y_pred))"
   ]
  },
  {
   "cell_type": "markdown",
   "id": "aa72d674",
   "metadata": {},
   "source": [
    "## 🔸 Parte 2: Lectura desde base de datos SQLite"
   ]
  },
  {
   "cell_type": "code",
   "execution_count": null,
   "id": "21a9402f",
   "metadata": {},
   "outputs": [],
   "source": [
    "import sqlite3\n",
    "import urllib.request\n",
    "\n",
    "# Descargar DB desde GitHub raw\n",
    "db_path = \"telco_churn.db\"\n",
    "urllib.request.urlretrieve(\"https://raw.githubusercontent.com/christanov/telco-churn-project/main/data/telco_churn.db\", db_path)\n",
    "\n",
    "# Conectar y consultar\n",
    "conn = sqlite3.connect(db_path)\n",
    "df_sql = pd.read_sql_query(\"SELECT * FROM telco_customer\", conn)\n",
    "df_sql.head()"
   ]
  },
  {
   "cell_type": "code",
   "execution_count": null,
   "id": "f996e6d0",
   "metadata": {},
   "outputs": [],
   "source": [
    "# Preparar y entrenar modelo desde base de datos\n",
    "X2 = df_sql[features].copy()\n",
    "y2 = df_sql['Churn']\n",
    "\n",
    "for col in X2.select_dtypes(include='object').columns:\n",
    "    le = LabelEncoder()\n",
    "    X2[col] = le.fit_transform(X2[col])\n",
    "\n",
    "X2_train, X2_test, y2_train, y2_test = train_test_split(X2, y2, test_size=0.2, random_state=42)\n",
    "X2_train[X2.columns] = scaler.fit_transform(X2_train[X2.columns])\n",
    "X2_test[X2.columns] = scaler.transform(X2_test[X2.columns])\n",
    "\n",
    "model_sql = RandomForestClassifier(n_estimators=100, random_state=42)\n",
    "model_sql.fit(X2_train, y2_train)\n",
    "y2_pred = model_sql.predict(X2_test)\n",
    "\n",
    "print(\"📘 Reporte desde SQLite DB:\")\n",
    "print(classification_report(y2_test, y2_pred))"
   ]
  }
 ],
 "metadata": {},
 "nbformat": 4,
 "nbformat_minor": 5
}
