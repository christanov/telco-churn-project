{
 "cells": [
  {
   "cell_type": "markdown",
   "id": "4f126acd",
   "metadata": {},
   "source": [
    "# 📊 Análisis de Churn desde base de datos SQLite"
   ]
  },
  {
   "cell_type": "code",
   "execution_count": null,
   "id": "efbe7cb6",
   "metadata": {},
   "outputs": [],
   "source": [
    "import pandas as pd\n",
    "import numpy as np\n",
    "import sqlite3\n",
    "import matplotlib.pyplot as plt\n",
    "import seaborn as sns\n",
    "from sklearn.model_selection import train_test_split\n",
    "from sklearn.preprocessing import StandardScaler, LabelEncoder\n",
    "from sklearn.ensemble import RandomForestClassifier\n",
    "from sklearn.metrics import classification_report, confusion_matrix\n",
    "\n",
    "# Cargar base de datos local\n",
    "conn = sqlite3.connect(\"telco_churn.db\")\n",
    "df = pd.read_sql_query(\"SELECT * FROM telco_customer\", conn)\n",
    "df.head()"
   ]
  },
  {
   "cell_type": "code",
   "execution_count": null,
   "id": "aa55bbca",
   "metadata": {},
   "outputs": [],
   "source": [
    "# Preparar datos\n",
    "features = ['tenure', 'MonthlyCharges', 'TotalCharges', 'Contract', 'InternetService',\n",
    "            'OnlineSecurity', 'TechSupport', 'OnlineBackup', 'DeviceProtection']\n",
    "X = df[features].copy()\n",
    "y = df['Churn']\n",
    "\n",
    "# Codificar variables categóricas\n",
    "for col in X.select_dtypes(include='object').columns:\n",
    "    le = LabelEncoder()\n",
    "    X[col] = le.fit_transform(X[col])\n",
    "\n",
    "# División de datos\n",
    "X_train, X_test, y_train, y_test = train_test_split(X, y, test_size=0.2, random_state=42)\n",
    "scaler = StandardScaler()\n",
    "X_train[X.columns] = scaler.fit_transform(X_train[X.columns])\n",
    "X_test[X.columns] = scaler.transform(X_test[X.columns])\n",
    "\n",
    "# Modelo\n",
    "model = RandomForestClassifier(n_estimators=100, random_state=42)\n",
    "model.fit(X_train, y_train)\n",
    "y_pred = model.predict(X_test)\n",
    "\n",
    "# Resultados\n",
    "print(classification_report(y_test, y_pred))\n",
    "sns.heatmap(confusion_matrix(y_test, y_pred), annot=True, fmt='d', cmap='Blues')\n",
    "plt.title(\"Matriz de Confusión desde SQLite\")\n",
    "plt.show()"
   ]
  }
 ],
 "metadata": {},
 "nbformat": 4,
 "nbformat_minor": 5
}
