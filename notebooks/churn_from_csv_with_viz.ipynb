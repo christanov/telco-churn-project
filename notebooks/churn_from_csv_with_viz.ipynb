{
 "cells": [
  {
   "cell_type": "markdown",
   "id": "fd645be6",
   "metadata": {},
   "source": [
    "# 📊 Análisis de Churn"
   ]
  },
  {
   "cell_type": "code",
   "execution_count": null,
   "id": "fcd30304",
   "metadata": {},
   "outputs": [],
   "source": [
    "import pandas as pd\n",
    "import numpy as np\n",
    "import matplotlib.pyplot as plt\n",
    "import seaborn as sns\n",
    "import sqlite3\n",
    "from sklearn.model_selection import train_test_split\n",
    "from sklearn.preprocessing import StandardScaler, LabelEncoder\n",
    "from sklearn.ensemble import RandomForestClassifier\n",
    "from sklearn.metrics import classification_report, confusion_matrix"
   ]
  },
  {
   "cell_type": "markdown",
   "id": "af45a7b5",
   "metadata": {},
   "source": [
    "## 📂 Lectura desde CSV"
   ]
  },
  {
   "cell_type": "code",
   "execution_count": null,
   "id": "8f60b748",
   "metadata": {},
   "outputs": [],
   "source": [
    "df = pd.read_csv(\"https://raw.githubusercontent.com/christanov/telco-churn-project/main/data/telco_dataset_final.csv\")\n",
    "features = ['tenure', 'MonthlyCharges', 'TotalCharges', 'Contract', 'InternetService',\n",
    "            'OnlineSecurity', 'TechSupport', 'OnlineBackup', 'DeviceProtection']\n",
    "X = df[features].copy()\n",
    "y = df['Churn']\n",
    "\n",
    "for col in X.select_dtypes(include='object').columns:\n",
    "    le = LabelEncoder()\n",
    "    X[col] = le.fit_transform(X[col])\n",
    "\n",
    "X_train, X_test, y_train, y_test = train_test_split(X, y, test_size=0.2, random_state=42)\n",
    "scaler = StandardScaler()\n",
    "X_train[X.columns] = scaler.fit_transform(X_train[X.columns])\n",
    "X_test[X.columns] = scaler.transform(X_test[X.columns])\n",
    "\n",
    "model = RandomForestClassifier(n_estimators=100, random_state=42)\n",
    "model.fit(X_train, y_train)\n",
    "y_pred = model.predict(X_test)\n",
    "print(classification_report(y_test, y_pred))"
   ]
  },
  {
   "cell_type": "markdown",
   "id": "80b6ffa5",
   "metadata": {},
   "source": [
    "## 📊 4.1 Visualizaciones Generadas"
   ]
  },
  {
   "cell_type": "code",
   "execution_count": null,
   "id": "68e378ea",
   "metadata": {},
   "outputs": [],
   "source": [
    "# Matriz de Confusión\n",
    "sns.heatmap(confusion_matrix(y_test, y_pred), annot=True, fmt='d', cmap='Blues')\n",
    "plt.title(\"Matriz de Confusión\")\n",
    "plt.xlabel(\"Predicción\")\n",
    "plt.ylabel(\"Real\")\n",
    "plt.show()"
   ]
  },
  {
   "cell_type": "code",
   "execution_count": null,
   "id": "6d5b5b3f",
   "metadata": {},
   "outputs": [],
   "source": [
    "# Importancia de Características\n",
    "importancia = pd.DataFrame({'feature': features, 'importance': model.feature_importances_})\n",
    "sns.barplot(x='importance', y='feature', data=importancia.sort_values('importance', ascending=True))\n",
    "plt.title(\"Importancia de Características\")\n",
    "plt.show()"
   ]
  },
  {
   "cell_type": "code",
   "execution_count": null,
   "id": "878eb61f",
   "metadata": {},
   "outputs": [],
   "source": [
    "# Distribución de categorías vs Churn\n",
    "cross = pd.crosstab(df['CustomerCategory'], df['Churn'], normalize='index') * 100\n",
    "cross.plot(kind='bar', stacked=True)\n",
    "plt.title(\"Distribución de categorías de clientes vs Churn\")\n",
    "plt.xlabel(\"Categoría\")\n",
    "plt.ylabel(\"Porcentaje\")\n",
    "plt.legend(title=\"Churn\")\n",
    "plt.show()"
   ]
  },
  {
   "cell_type": "code",
   "execution_count": null,
   "id": "218d6993",
   "metadata": {},
   "outputs": [],
   "source": [
    "# ARPU vs Total de servicios por categoría\n",
    "fig, ax1 = plt.subplots(figsize=(10,5))\n",
    "ax2 = ax1.twinx()\n",
    "\n",
    "avg_arpu = df.groupby('CustomerCategory')['ARPU'].mean()\n",
    "avg_services = df.groupby('CustomerCategory')['TotalServices'].mean()\n",
    "\n",
    "ax1.bar(avg_arpu.index, avg_arpu.values, alpha=0.6, color='blue', label='ARPU')\n",
    "ax2.plot(avg_services.index, avg_services.values, color='red', marker='o', label='Servicios')\n",
    "\n",
    "ax1.set_ylabel(\"ARPU\", color='blue')\n",
    "ax2.set_ylabel(\"Total Servicios\", color='red')\n",
    "plt.title(\"ARPU vs Total de servicios por categoría\")\n",
    "plt.show()"
   ]
  }
 ],
 "metadata": {},
 "nbformat": 4,
 "nbformat_minor": 5
}
