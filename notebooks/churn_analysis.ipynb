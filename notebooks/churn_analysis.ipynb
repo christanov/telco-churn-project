{
 "cells": [
  {
   "cell_type": "markdown",
   "id": "03d5d768",
   "metadata": {},
   "source": [
    "# 📊 Análisis de Churn en Clientes de Telecomunicaciones\n",
    "Este notebook analiza y predice la pérdida de clientes utilizando aprendizaje automático."
   ]
  },
  {
   "cell_type": "code",
   "execution_count": null,
   "id": "4dfcce41",
   "metadata": {},
   "outputs": [],
   "source": [
    "import pandas as pd\n",
    "import numpy as np\n",
    "import matplotlib.pyplot as plt\n",
    "import seaborn as sns\n",
    "from sklearn.model_selection import train_test_split\n",
    "from sklearn.preprocessing import StandardScaler, LabelEncoder\n",
    "from sklearn.ensemble import RandomForestClassifier\n",
    "from sklearn.metrics import classification_report, confusion_matrix"
   ]
  },
  {
   "cell_type": "code",
   "execution_count": null,
   "id": "477c9f95",
   "metadata": {},
   "outputs": [],
   "source": [
    "# Cargar dataset final\n",
    "df = pd.read_csv('https://raw.githubusercontent.com/christanov/telco-churn-project/main/data/telco_dataset_final.csv')\n",
    "df.head()"
   ]
  },
  {
   "cell_type": "code",
   "execution_count": null,
   "id": "47fac1d7",
   "metadata": {},
   "outputs": [],
   "source": [
    "# Preparar datos\n",
    "features = ['tenure', 'MonthlyCharges', 'TotalCharges', 'Contract', 'InternetService',\n",
    "            'OnlineSecurity', 'TechSupport', 'OnlineBackup', 'DeviceProtection']\n",
    "X = df[features].copy()\n",
    "y = df['Churn']"
   ]
  },
  {
   "cell_type": "code",
   "execution_count": null,
   "id": "58fc01e1",
   "metadata": {},
   "outputs": [],
   "source": [
    "# Codificar variables categóricas\n",
    "categorical_cols = ['Contract', 'InternetService', 'OnlineSecurity', 'TechSupport', \n",
    "                    'OnlineBackup', 'DeviceProtection']\n",
    "for col in categorical_cols:\n",
    "    le = LabelEncoder()\n",
    "    X[col] = le.fit_transform(X[col])"
   ]
  },
  {
   "cell_type": "code",
   "execution_count": null,
   "id": "2be1349c",
   "metadata": {},
   "outputs": [],
   "source": [
    "# Dividir en entrenamiento y prueba\n",
    "X_train, X_test, y_train, y_test = train_test_split(X, y, test_size=0.2, random_state=42)"
   ]
  },
  {
   "cell_type": "code",
   "execution_count": null,
   "id": "e3cb414e",
   "metadata": {},
   "outputs": [],
   "source": [
    "# Escalar características numéricas\n",
    "scaler = StandardScaler()\n",
    "numeric_cols = ['tenure', 'MonthlyCharges', 'TotalCharges']\n",
    "X_train[numeric_cols] = scaler.fit_transform(X_train[numeric_cols])\n",
    "X_test[numeric_cols] = scaler.transform(X_test[numeric_cols])"
   ]
  },
  {
   "cell_type": "code",
   "execution_count": null,
   "id": "61296ca7",
   "metadata": {},
   "outputs": [],
   "source": [
    "# Entrenar modelo\n",
    "model = RandomForestClassifier(n_estimators=100, random_state=42)\n",
    "model.fit(X_train, y_train)\n",
    "y_pred = model.predict(X_test)"
   ]
  },
  {
   "cell_type": "code",
   "execution_count": null,
   "id": "45609766",
   "metadata": {},
   "outputs": [],
   "source": [
    "# Reporte de clasificación\n",
    "print(classification_report(y_test, y_pred))"
   ]
  },
  {
   "cell_type": "code",
   "execution_count": null,
   "id": "274b421c",
   "metadata": {},
   "outputs": [],
   "source": [
    "# Matriz de confusión\n",
    "plt.figure(figsize=(6,4))\n",
    "sns.heatmap(confusion_matrix(y_test, y_pred), annot=True, fmt='d', cmap='Blues')\n",
    "plt.title('Matriz de Confusión')\n",
    "plt.ylabel('Real')\n",
    "plt.xlabel('Predicho')\n",
    "plt.show()"
   ]
  },
  {
   "cell_type": "code",
   "execution_count": null,
   "id": "d4aa7917",
   "metadata": {},
   "outputs": [],
   "source": [
    "# Importancia de características\n",
    "importancia = pd.DataFrame({'feature': features, 'importance': model.feature_importances_})\n",
    "sns.barplot(x='importance', y='feature', data=importancia.sort_values('importance', ascending=True))\n",
    "plt.title('Importancia de Características')\n",
    "plt.show()"
   ]
  },
  {
   "cell_type": "code",
   "execution_count": null,
   "id": "2c142c0e",
   "metadata": {},
   "outputs": [],
   "source": [
    "# Visualización: Distribución de churn por categoría de cliente\n",
    "churn_dist = pd.crosstab(df['CustomerCategory'], df['Churn'], normalize='index') * 100\n",
    "churn_dist.plot(kind='bar', stacked=True)\n",
    "plt.title('Distribución de Churn por Categoría')\n",
    "plt.ylabel('% de Clientes')\n",
    "plt.show()"
   ]
  },
  {
   "cell_type": "code",
   "execution_count": null,
   "id": "d08a250e",
   "metadata": {},
   "outputs": [],
   "source": [
    "# Visualización: ARPU y Servicios por Categoría\n",
    "fig, ax1 = plt.subplots(figsize=(10,5))\n",
    "ax2 = ax1.twinx()\n",
    "avg_arpu = df.groupby('CustomerCategory')['ARPU'].mean()\n",
    "avg_services = df.groupby('CustomerCategory')['TotalServices'].mean()\n",
    "ax1.bar(avg_arpu.index, avg_arpu.values, color='blue', alpha=0.6, label='ARPU')\n",
    "ax2.plot(avg_services.index, avg_services.values, color='red', marker='o', label='Servicios')\n",
    "ax1.set_ylabel('ARPU', color='blue')\n",
    "ax2.set_ylabel('Servicios', color='red')\n",
    "plt.title('ARPU vs Servicios por Categoría')\n",
    "plt.tight_layout()\n",
    "plt.show()"
   ]
  }
 ],
 "metadata": {},
 "nbformat": 4,
 "nbformat_minor": 5
}
